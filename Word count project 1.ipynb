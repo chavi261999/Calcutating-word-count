{
 "cells": [
  {
   "cell_type": "code",
   "execution_count": 1,
   "metadata": {},
   "outputs": [],
   "source": []
  },
  {
   "cell_type": "markdown",
   "metadata": {},
   "source": [
    "   # RUN TIME ERROR \n",
    "  "
   ]
  },
  {
   "cell_type": "code",
   "execution_count": 74,
   "metadata": {},
   "outputs": [
    {
     "name": "stdout",
     "output_type": "stream",
     "text": [
      "[['Reading', 'Skills\\n'], ['Reading', 'Skills', '(', 'to', 'develop', 'language', 'spoken', 'skills)', '\\n'], ['1.The', 'four', 'Skills', 'Required', 'to', 'learn', 'any', 'language', 'are', 'Listen,', 'Speak,', 'Read', 'and', 'Write', '\\n'], ['2.Where', 'Listening', 'and', 'Reading', 'are', 'the', 'inputs', 'that', 'add', 'awareness', 'and', 'expand', 'knowledge', 'of', 'that', 'Language\\n'], ['3.Spoken', 'and', 'Written', 'are', 'the', 'Out', 'Puts', 'what', 'would', 'help', 'express', 'in', 'that', 'language\\n'], ['4.', 'Reading', 'is', 'a', 'skill', 'that', 'we', 'take', 'for', 'granted.', 'We', 'assume', 'that', 'if', 'we', 'are', 'capable', 'of', 'reading,', 'then', 'reading', 'tasks', 'should', 'be', 'easy', 'to', 'complete.']]\n"
     ]
    },
    {
     "data": {
      "text/plain": [
       "6"
      ]
     },
     "execution_count": 74,
     "metadata": {},
     "output_type": "execute_result"
    }
   ],
   "source": [
    "f=open(\"Notes.txt\")\n",
    "c=[]\n",
    "for x in  f:\n",
    "    #print(x)\n",
    "    c.append(x.split(' '))\n",
    "print(c)\n",
    "d=0\n",
    "for i in range (len(c)):\n",
    "    d=d+1\n",
    "d    \n"
   ]
  },
  {
   "cell_type": "code",
   "execution_count": 30,
   "metadata": {},
   "outputs": [
    {
     "data": {
      "text/plain": [
       "5"
      ]
     },
     "execution_count": 30,
     "metadata": {},
     "output_type": "execute_result"
    }
   ],
   "source": []
  },
  {
   "cell_type": "markdown",
   "metadata": {},
   "source": [
    "# word counter program 1\n"
   ]
  },
  {
   "cell_type": "code",
   "execution_count": 72,
   "metadata": {},
   "outputs": [
    {
     "name": "stdout",
     "output_type": "stream",
     "text": [
      "['Reading', 'Skills']\n",
      "['Reading', 'Skills', '(', 'to', 'develop', 'language', 'spoken', 'skills)']\n",
      "['1.The', 'four', 'Skills', 'Required', 'to', 'learn', 'any', 'language', 'are', 'Listen,', 'Speak,', 'Read', 'and', 'Write']\n",
      "['2.Where', 'Listening', 'and', 'Reading', 'are', 'the', 'inputs', 'that', 'add', 'awareness', 'and', 'expand', 'knowledge', 'of', 'that', 'Language']\n",
      "['3.Spoken', 'and', 'Written', 'are', 'the', 'Out', 'Puts', 'what', 'would', 'help', 'express', 'in', 'that', 'language']\n",
      "['4.', 'Reading', 'is', 'a', 'skill', 'that', 'we', 'take', 'for', 'granted.', 'We', 'assume', 'that', 'if', 'we', 'are', 'capable', 'of', 'reading,', 'then', 'reading', 'tasks', 'should', 'be', 'easy', 'to', 'complete.']\n",
      "81\n"
     ]
    }
   ],
   "source": [
    "f=open(\"Notes.txt\")\n",
    "count=0\n",
    "for line in f:\n",
    "    line=line.strip(' \\n ')\n",
    "    words=line.split(' ')\n",
    "    count+=len(words)\n",
    "    print(words)\n",
    "f.close()\n",
    "print(str(count))\n",
    "    \n",
    "    "
   ]
  },
  {
   "cell_type": "markdown",
   "metadata": {},
   "source": [
    "# program 2"
   ]
  },
  {
   "cell_type": "code",
   "execution_count": 68,
   "metadata": {},
   "outputs": [
    {
     "name": "stdout",
     "output_type": "stream",
     "text": [
      "lines: 6 words: 81 characters: 467\n"
     ]
    }
   ],
   "source": [
    "file = open(\"Notes.txt\", \"r\")\n",
    "\n",
    "number_of_lines = 0\n",
    "number_of_words = 0\n",
    "number_of_characters = 0\n",
    "for line in file:\n",
    "  line = line.strip(\"\\n\")\n",
    "#won't count \\n as character\n",
    "\n",
    "  words = line.split()\n",
    "  number_of_lines += 1\n",
    "  number_of_words += len(words)\n",
    "  number_of_characters += len(line)\n",
    "\n",
    "file.close()\n",
    "\n",
    "print(\"lines:\", number_of_lines, \"words:\", number_of_words, \"characters:\", number_of_characters)"
   ]
  },
  {
   "cell_type": "code",
   "execution_count": null,
   "metadata": {},
   "outputs": [],
   "source": []
  },
  {
   "cell_type": "code",
   "execution_count": null,
   "metadata": {},
   "outputs": [],
   "source": []
  },
  {
   "cell_type": "code",
   "execution_count": null,
   "metadata": {},
   "outputs": [],
   "source": []
  }
 ],
 "metadata": {
  "kernelspec": {
   "display_name": "Python 3",
   "language": "python",
   "name": "python3"
  },
  "language_info": {
   "codemirror_mode": {
    "name": "ipython",
    "version": 3
   },
   "file_extension": ".py",
   "mimetype": "text/x-python",
   "name": "python",
   "nbconvert_exporter": "python",
   "pygments_lexer": "ipython3",
   "version": "3.8.3"
  }
 },
 "nbformat": 4,
 "nbformat_minor": 4
}
